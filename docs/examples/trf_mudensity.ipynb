{
 "cells": [
  {
   "cell_type": "markdown",
   "metadata": {},
   "source": [
    "# Determining the MU Density given a trf log file\n",
    "\n",
    "PyMedPhys exposes tools to read in trf logfiles into objects which can be easily passed around. In this example we will be reading a logfile directly from disk into a `DeliveryData` object, then using the values within this object to calculate an MU Density.\n",
    "\n",
    "For more information on each of the functions used within this example, at the end the docstrings for key functions are displayed."
   ]
  },
  {
   "cell_type": "code",
   "execution_count": null,
   "metadata": {},
   "outputs": [],
   "source": [
    "from glob import glob\n",
    "\n",
    "import numpy as np\n",
    "import matplotlib.pyplot as plt\n",
    "\n",
    "from pymedphys.trf import delivery_data_from_logfile\n",
    "from pymedphys.mudensity import calc_mu_density, get_grid, display_mu_density"
   ]
  },
  {
   "cell_type": "markdown",
   "metadata": {},
   "source": [
    "For the purpose of this exercise one of the log files used for constancy testing within PyMedPhys will be used. Any trf log file path can be provided in the string below. "
   ]
  },
  {
   "cell_type": "code",
   "execution_count": null,
   "metadata": {},
   "outputs": [],
   "source": [
    "logfile_path_search_string = '../../tests/data/trf/*/*VMAT*.trf'\n",
    "\n",
    "example_logfile_from_tests = glob(logfile_path_search_string)[0]\n",
    "example_logfile_from_tests"
   ]
  },
  {
   "cell_type": "markdown",
   "metadata": {},
   "source": [
    "## Delivery Data from a Log File\n",
    "\n",
    "`DeliveryData` is an object within PyMedPhys which holds monitor units, gantry angles, collimator angles, as well as MLC and Jaw positions. It can be parameterised by control points, or by time interval. This particular object is a likely candiated for being adjusted in the future.\n",
    "\n",
    "Helper functions are provided within PyMedPhys to extract `DeliveryData` from Mosaiq SQL queries as well as log files. In the future DICOM RT plan files are also expected to be supported.\n",
    "\n",
    "The API for creating and interacting with `DeliveryData` is likely to change in the future."
   ]
  },
  {
   "cell_type": "code",
   "execution_count": null,
   "metadata": {},
   "outputs": [],
   "source": [
    "delivery_data = delivery_data_from_logfile(example_logfile_from_tests)"
   ]
  },
  {
   "cell_type": "code",
   "execution_count": null,
   "metadata": {},
   "outputs": [],
   "source": [
    "mu = delivery_data.monitor_units\n",
    "mlc = delivery_data.mlc\n",
    "jaw = delivery_data.jaw"
   ]
  },
  {
   "cell_type": "markdown",
   "metadata": {},
   "source": [
    "## Calculating and displaying the MU Density\n",
    "\n",
    "Once MU, MLC, and Jaw parameters are known these can be used to calculate an MU Density. The MU Density function also takes optional parameters, see the end of this document for further info on each of the functions used."
   ]
  },
  {
   "cell_type": "code",
   "execution_count": null,
   "metadata": {},
   "outputs": [],
   "source": [
    "mu_density = calc_mu_density(mu, mlc, jaw)"
   ]
  },
  {
   "cell_type": "code",
   "execution_count": null,
   "metadata": {},
   "outputs": [],
   "source": [
    "grid = get_grid()\n",
    "\n",
    "plt.figure(figsize=(10,7))\n",
    "display_mu_density(grid, mu_density)\n",
    "plt.xlim([-60, 60])\n",
    "plt.ylim([50, -60])"
   ]
  },
  {
   "cell_type": "markdown",
   "metadata": {},
   "source": [
    "## Docstrings for functions used in this notebook"
   ]
  },
  {
   "cell_type": "code",
   "execution_count": null,
   "metadata": {},
   "outputs": [],
   "source": [
    "glob?"
   ]
  },
  {
   "cell_type": "code",
   "execution_count": null,
   "metadata": {},
   "outputs": [],
   "source": [
    "delivery_data_from_logfile?"
   ]
  },
  {
   "cell_type": "code",
   "execution_count": null,
   "metadata": {},
   "outputs": [],
   "source": [
    "calc_mu_density?"
   ]
  },
  {
   "cell_type": "code",
   "execution_count": null,
   "metadata": {},
   "outputs": [],
   "source": [
    "get_grid?"
   ]
  },
  {
   "cell_type": "code",
   "execution_count": null,
   "metadata": {},
   "outputs": [],
   "source": [
    "display_mu_density?"
   ]
  }
 ],
 "metadata": {
  "kernelspec": {
   "display_name": "Python 3",
   "language": "python",
   "name": "python3"
  },
  "language_info": {
   "codemirror_mode": {
    "name": "ipython",
    "version": 3
   },
   "file_extension": ".py",
   "mimetype": "text/x-python",
   "name": "python",
   "nbconvert_exporter": "python",
   "pygments_lexer": "ipython3",
   "version": "3.7.0"
  }
 },
 "nbformat": 4,
 "nbformat_minor": 2
}
