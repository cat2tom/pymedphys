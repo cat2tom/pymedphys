{
 "cells": [
  {
   "cell_type": "code",
   "execution_count": null,
   "metadata": {},
   "outputs": [],
   "source": [
    "import os\n",
    "from glob import glob\n",
    "import pathlib\n",
    "\n",
    "import pydicom\n",
    "\n",
    "from pymedphys.dicom import anonymise_dicom_dataset"
   ]
  },
  {
   "cell_type": "code",
   "execution_count": null,
   "metadata": {},
   "outputs": [],
   "source": [
    "root_dir = r'S:\\Physics\\DoseCHECK\\Commissioning\\Beam Model Files'\n",
    "original = os.path.join(root_dir, 'Patient Fields')\n",
    "anonymised = os.path.join(root_dir, 'Patient Fields -- Anonymised')\n",
    "\n",
    "glob_search = os.path.join(original, r'*\\*\\*\\*\\*.dcm')\n",
    "file_list = glob(glob_search)"
   ]
  },
  {
   "cell_type": "code",
   "execution_count": null,
   "metadata": {},
   "outputs": [],
   "source": [
    "relative_paths = [\n",
    "    os.path.relpath(file_path, original)\n",
    "    for file_path in file_list\n",
    "]\n",
    "\n",
    "new_paths = [\n",
    "    os.path.join(anonymised, relative_path)\n",
    "    for relative_path in relative_paths\n",
    "]"
   ]
  },
  {
   "cell_type": "code",
   "execution_count": null,
   "metadata": {},
   "outputs": [],
   "source": [
    "for old_path, new_path in zip(file_list, new_paths):\n",
    "    print(new_path)\n",
    "    \n",
    "    new_directory = os.path.dirname(new_path)\n",
    "    pathlib.Path(new_directory).mkdir(parents=True, exist_ok=True) \n",
    "    \n",
    "    dataset = pydicom.dcmread(old_path, force=True)\n",
    "    anonymise_dicom_dataset(dataset, copy=False, delete_unknown_tags=True)\n",
    "    dataset.save_as(new_path)"
   ]
  },
  {
   "cell_type": "code",
   "execution_count": null,
   "metadata": {},
   "outputs": [],
   "source": []
  }
 ],
 "metadata": {
  "kernelspec": {
   "display_name": "Python 3",
   "language": "python",
   "name": "python3"
  },
  "language_info": {
   "codemirror_mode": {
    "name": "ipython",
    "version": 3
   },
   "file_extension": ".py",
   "mimetype": "text/x-python",
   "name": "python",
   "nbconvert_exporter": "python",
   "pygments_lexer": "ipython3",
   "version": "3.7.1"
  }
 },
 "nbformat": 4,
 "nbformat_minor": 2
}
