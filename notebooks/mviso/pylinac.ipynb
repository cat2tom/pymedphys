{
 "cells": [
  {
   "cell_type": "markdown",
   "metadata": {},
   "source": [
    "# An investigation of PyLinac's MV kV iso code\n",
    "\n",
    "From https://github.com/jrkerns/pylinac/blob/95d3ea6b8f853beb4c9729f36b5451bbc4e7e2a7/pylinac/winston_lutz.py\n",
    "\n",
    "PyLinac has the following license:"
   ]
  },
  {
   "cell_type": "raw",
   "metadata": {},
   "source": [
    "Copyright (c) 2014-2019 James Kerns\n",
    "\n",
    "Permission is hereby granted, free of charge, to any person obtaining a copy of this software and associated\n",
    "documentation files (the \"Software\"), to deal in the Software without restriction, including without limitation\n",
    "the rights to use, copy, modify, merge, publish, distribute, sublicense, and/or sell copies of the Software,\n",
    "and to permit persons to whom the Software is furnished to do so, subject to the following conditions:\n",
    "\n",
    "The above copyright notice and this permission notice shall be included in all copies or substantial portions\n",
    "of the Software.\n",
    "\n",
    "THE SOFTWARE IS PROVIDED \"AS IS\", WITHOUT WARRANTY OF ANY KIND, EXPRESS OR IMPLIED, INCLUDING BUT NOT LIMITED\n",
    "TO THE WARRANTIES OF MERCHANTABILITY, FITNESS FOR A PARTICULAR PURPOSE AND NONINFRINGEMENT. IN NO EVENT SHALL\n",
    "THE AUTHORS OR COPYRIGHT HOLDERS BE LIABLE FOR ANY CLAIM, DAMAGES OR OTHER LIABILITY, WHETHER IN AN ACTION OF\n",
    "CONTRACT, TORT OR OTHERWISE, ARISING FROM, OUT OF OR IN CONNECTION WITH THE SOFTWARE OR THE USE OR OTHER DEALINGS\n",
    "IN THE SOFTWARE."
   ]
  },
  {
   "cell_type": "markdown",
   "metadata": {},
   "source": [
    "Modifications have been made to the PyLinac code. Please see the original repository (https://github.com/jrkerns/pylinac) for the original code."
   ]
  },
  {
   "cell_type": "code",
   "execution_count": null,
   "metadata": {},
   "outputs": [],
   "source": [
    "import os\n",
    "import datetime\n",
    "from glob import glob\n",
    "from collections import namedtuple\n",
    "\n",
    "import numpy as np\n",
    "import pandas as pd\n",
    "import scipy.ndimage\n",
    "\n",
    "import pydicom\n",
    "from pylinac import WinstonLutz"
   ]
  },
  {
   "cell_type": "code",
   "execution_count": null,
   "metadata": {},
   "outputs": [],
   "source": [
    "data_root = r'S:\\Physics\\Programming\\data\\MVISO'"
   ]
  },
  {
   "cell_type": "code",
   "execution_count": null,
   "metadata": {},
   "outputs": [],
   "source": [
    "data_record = glob(os.path.join(data_root, 'iView*.xlsx'))[0]\n",
    "dicom_files = np.array(glob(os.path.join(data_root, '*.dcm')))"
   ]
  },
  {
   "cell_type": "code",
   "execution_count": null,
   "metadata": {},
   "outputs": [],
   "source": [
    "record = pd.read_excel(data_record, skiprows=4)\n",
    "timestamps_initial = record['Datetime']\n",
    "timestamps = timestamps_initial[timestamps_initial.notnull()].values\n",
    "gantry = record['Gantry'][timestamps_initial.notnull()].values\n",
    "colimator = record['Col'][timestamps_initial.notnull()].values\n",
    "turntable = record['TT'][timestamps_initial.notnull()].values\n",
    "beam = record['Energy'][timestamps_initial.notnull()].values"
   ]
  },
  {
   "cell_type": "code",
   "execution_count": null,
   "metadata": {},
   "outputs": [],
   "source": [
    "datasets = np.array([\n",
    "    pydicom.read_file(dicom_file, force=True)\n",
    "    for dicom_file in dicom_files\n",
    "])"
   ]
  },
  {
   "cell_type": "code",
   "execution_count": null,
   "metadata": {},
   "outputs": [],
   "source": [
    "# np.random.shuffle(datasets)"
   ]
  },
  {
   "cell_type": "code",
   "execution_count": null,
   "metadata": {},
   "outputs": [],
   "source": [
    "acquisition_datetimes = np.array([\n",
    "    datetime.datetime.strptime(dataset.AcquisitionDate + dataset.AcquisitionTime, '%Y%m%d%H%M%S.%f')\n",
    "    for dataset in datasets\n",
    "], dtype=np.datetime64)"
   ]
  },
  {
   "cell_type": "code",
   "execution_count": null,
   "metadata": {},
   "outputs": [],
   "source": [
    "diff_map = np.abs(acquisition_datetimes[None,:] - timestamps[:, None]) < np.timedelta64(2, 's')\n",
    "timestamp_index, acquisition_index = np.where(diff_map)"
   ]
  },
  {
   "cell_type": "code",
   "execution_count": null,
   "metadata": {},
   "outputs": [],
   "source": [
    "assert len(set(acquisition_index)) == len(acquisition_index)\n",
    "assert len(acquisition_index) == len(acquisition_datetimes)"
   ]
  },
  {
   "cell_type": "code",
   "execution_count": null,
   "metadata": {},
   "outputs": [],
   "source": [
    "datasets = datasets[acquisition_index]\n",
    "dicom_files = dicom_files[acquisition_index]\n",
    "timestamps = timestamps[timestamp_index]\n",
    "gantry = gantry[timestamp_index]\n",
    "colimator = colimator[timestamp_index]\n",
    "turntable = turntable[timestamp_index]\n",
    "beam = beam[timestamp_index]\n",
    "\n",
    "acquisition_datetimes = np.array([\n",
    "    datetime.datetime.strptime(dataset.AcquisitionDate + dataset.AcquisitionTime, '%Y%m%d%H%M%S.%f')\n",
    "    for dataset in datasets\n",
    "], dtype=np.datetime64)\n",
    "\n",
    "diff_map = np.abs(acquisition_datetimes[None,:] - timestamps[:, None]) < np.timedelta64(2, 's')\n",
    "timestamp_index, acquisition_index = np.where(diff_map)\n",
    "\n",
    "assert np.all(timestamp_index == acquisition_index)"
   ]
  },
  {
   "cell_type": "code",
   "execution_count": null,
   "metadata": {},
   "outputs": [],
   "source": [
    "pixel_arrays = [\n",
    "    dataset.pixel_array\n",
    "    for dataset in datasets\n",
    "]"
   ]
  },
  {
   "cell_type": "code",
   "execution_count": null,
   "metadata": {},
   "outputs": [],
   "source": [
    "# https://github.com/jrkerns/pylinac/blob/95d3ea6b8f853beb4c9729f36b5451bbc4e7e2a7/pylinac/core/image.py#L358-L377\n",
    "    \n",
    "def crop(pixel_array, pixels):    \n",
    "    pixel_array = pixel_array[pixels:, :]\n",
    "    pixel_array = pixel_array[:-pixels, :]\n",
    "    pixel_array = pixel_array[:, pixels:]\n",
    "    pixel_array = pixel_array[:, :-pixels]"
   ]
  },
  {
   "cell_type": "code",
   "execution_count": null,
   "metadata": {},
   "outputs": [],
   "source": [
    "# https://github.com/jrkerns/pylinac/blob/95d3ea6b8f853beb4c9729f36b5451bbc4e7e2a7/pylinac/winston_lutz.py#L570-L591\n",
    "\n",
    "def clean_edges(pixel_array, window_size):\n",
    "    \n",
    "    def has_noise(pixel_array, window_size):\n",
    "        near_min, near_max = np.percentile(pixel_array, [5, 99.5])\n",
    "        img_range = near_max - near_min\n",
    "        \n",
    "        top = pixel_array[:window_size, :]\n",
    "        left = pixel_array[:, :window_size]\n",
    "        bottom = pixel_array[-window_size:, :]\n",
    "        right = pixel_array[:, -window_size:]\n",
    "        \n",
    "        edge_array = np.concatenate((top.flatten(), left.flatten(), bottom.flatten(), right.flatten()))\n",
    "        edge_too_low = edge_array.min() < (near_min - img_range / 10)\n",
    "        edge_too_high = edge_array.max() > (near_max + img_range / 10)\n",
    "        \n",
    "        return edge_too_low or edge_too_high\n",
    "\n",
    "    safety_stop = np.min(pixel_array.shape)/10\n",
    "    \n",
    "    while has_noise(pixel_array, window_size) and safety_stop > 0:\n",
    "        crop(pixel_array, window_size)\n",
    "        safety_stop -= 1"
   ]
  },
  {
   "cell_type": "code",
   "execution_count": null,
   "metadata": {},
   "outputs": [],
   "source": [
    "# https://github.com/jrkerns/pylinac/blob/95d3ea6b8f853beb4c9729f36b5451bbc4e7e2a7/pylinac/core/image.py#L446-L459\n",
    "\n",
    "def as_binary(pixel_array, threshold):\n",
    "    return np.where(pixel_array >= threshold, 1, 0)"
   ]
  },
  {
   "cell_type": "code",
   "execution_count": null,
   "metadata": {},
   "outputs": [],
   "source": [
    "Point = namedtuple('x', 'y')"
   ]
  },
  {
   "cell_type": "code",
   "execution_count": null,
   "metadata": {},
   "outputs": [],
   "source": [
    "# https://github.com/jrkerns/pylinac/blob/95d3ea6b8f853beb4c9729f36b5451bbc4e7e2a7/pylinac/winston_lutz.py#L593-L614\n",
    "\n",
    "def find_field_centroid(pixel_array):\n",
    "    min, max = np.percentile(pixel_array, [5, 99.9])\n",
    "    threshold_array = as_binary(pixel_array, (max - min)/2 + min)\n",
    "\n",
    "    cleaned_img = scipy.ndimage.binary_erosion(threshold_array)\n",
    "    [*edges] = bounding_box(cleaned_img)\n",
    "    edges[0] -= 10\n",
    "    edges[1] += 10\n",
    "    edges[2] -= 10\n",
    "    edges[3] += 10\n",
    "    coords = scipy.ndimage.measurements.center_of_mass(threshold_img)\n",
    "    p = Point(x=coords[-1], y=coords[0])\n",
    "\n",
    "    return p, edges"
   ]
  },
  {
   "cell_type": "code",
   "execution_count": null,
   "metadata": {},
   "outputs": [],
   "source": []
  },
  {
   "cell_type": "code",
   "execution_count": null,
   "metadata": {},
   "outputs": [],
   "source": [
    "# https://github.com/jrkerns/pylinac/blob/95d3ea6b8f853beb4c9729f36b5451bbc4e7e2a7/pylinac/core/profile.py#L250-L307\n",
    "    \n",
    "def penumbra_point(self, side: str='left', x: int=50, interpolate: bool=False, kind: str='index'):\n",
    "    # get peak\n",
    "    peak = copy.copy(self._initial_peak_idx)\n",
    "    peak = int(peak*self.interpolation_factor if interpolate else peak)\n",
    "\n",
    "    # get y-data\n",
    "    if side == LEFT:\n",
    "        y_data = self._values_left_interp if interpolate else self._values_left\n",
    "    else:\n",
    "        y_data = self._values_right_interp if interpolate else self._values_right\n",
    "\n",
    "    # get threshold\n",
    "    max_point = y_data.max()\n",
    "    threshold = max_point * (x / 100)\n",
    "\n",
    "    # find the index, moving 1 element at a time until the value is encountered\n",
    "    found = False\n",
    "    at_end = False\n",
    "    try:\n",
    "        while not found and not at_end:\n",
    "            if y_data[peak] < threshold:\n",
    "                found = True\n",
    "                peak -= 1 if side == RIGHT else -1\n",
    "            elif peak == 0:\n",
    "                at_end = True\n",
    "            peak += 1 if side == RIGHT else -1\n",
    "    except IndexError:\n",
    "        raise IndexError(\"The point of interest was beyond the profile; i.e. the profile may be cut off on the side\")\n",
    "\n",
    "    if kind == VALUE:\n",
    "        return self._values_interp[peak] if interpolate else self.values[peak]\n",
    "    elif kind == INDEX:\n",
    "        if interpolate:\n",
    "            peak /= self.interpolation_factor\n",
    "        return peak"
   ]
  },
  {
   "cell_type": "code",
   "execution_count": null,
   "metadata": {},
   "outputs": [],
   "source": [
    "# https://github.com/jrkerns/pylinac/blob/95d3ea6b8f853beb4c9729f36b5451bbc4e7e2a7/pylinac/core/profile.py#L343-L362\n",
    "\n",
    "def fwxm(self, x: int=50, interpolate: bool=False) -> float:\n",
    "    li = self._penumbra_point(LEFT, x, interpolate)\n",
    "    ri = self._penumbra_point(RIGHT, x, interpolate)\n",
    "    fwxm = np.abs(ri - li)\n",
    "    return fwxm"
   ]
  },
  {
   "cell_type": "code",
   "execution_count": null,
   "metadata": {},
   "outputs": [],
   "source": [
    "# https://github.com/jrkerns/pylinac/blob/95d3ea6b8f853beb4c9729f36b5451bbc4e7e2a7/pylinac/core/profile.py#L364-L379\n",
    "    \n",
    "def fwxm_center(pixel_array, x: int=50, interpolate: bool=False, kind: str='index') -> float:\n",
    "    \"\"\"Return the center index of the FWXM.\n",
    "    See Also\n",
    "    --------\n",
    "    fwxm() : Further parameter info\n",
    "    \"\"\"\n",
    "    fwxm = self.fwxm(x, interpolate=interpolate)\n",
    "    li = self._penumbra_point(LEFT, x, interpolate)\n",
    "    fwxmcen = np.abs(li + fwxm / 2)\n",
    "    if not interpolate:\n",
    "        fwxmcen = int(round(fwxmcen))\n",
    "    if kind == VALUE:\n",
    "        return self.values[fwxmcen] if not interpolate else self._values_interp[int(fwxmcen*self.interpolation_factor)]\n",
    "    else:\n",
    "        return fwxmcen"
   ]
  },
  {
   "cell_type": "code",
   "execution_count": null,
   "metadata": {},
   "outputs": [],
   "source": [
    "# https://github.com/jrkerns/pylinac/blob/95d3ea6b8f853beb4c9729f36b5451bbc4e7e2a7/pylinac/core/image.py#L397-L400\n",
    "\n",
    "def invert(pixel_array):\n",
    "    return -pixel_array + pixel_array.max() + pixel_array.min()"
   ]
  },
  {
   "cell_type": "code",
   "execution_count": null,
   "metadata": {},
   "outputs": [],
   "source": [
    "# https://github.com/jrkerns/pylinac/blob/95d3ea6b8f853beb4c9729f36b5451bbc4e7e2a7/pylinac/winston_lutz.py#L616-L659\n",
    "\n",
    "def find_bb(pixel_array):\n",
    "    # get initial starting conditions\n",
    "    hmin, hmax = np.percentile(pixel_array, [5, 99.9])\n",
    "    spread = hmax - hmin\n",
    "    max_thresh = hmax\n",
    "    lower_thresh = hmax - spread / 1.5\n",
    "    # search for the BB by iteratively lowering the low-pass threshold value until the BB is found.\n",
    "    found = False\n",
    "    while not found:\n",
    "        try:\n",
    "            binary_arr = np.logical_and((max_thresh > pixel_array), (pixel_array >= lower_thresh))\n",
    "            labeled_arr, num_roi = ndimage.measurements.label(binary_arr)\n",
    "            roi_sizes, bin_edges = np.histogram(labeled_arr, bins=num_roi + 1)\n",
    "            bw_bb_img = np.where(labeled_arr == np.argsort(roi_sizes)[-3], 1, 0)\n",
    "\n",
    "            if not is_round(bw_bb_img):\n",
    "                raise ValueError\n",
    "            if not is_modest_size(bw_bb_img, find_field_centroid(pixel_array)):\n",
    "                raise ValueError\n",
    "            if not is_symmetric(bw_bb_img):\n",
    "                raise ValueError\n",
    "        except (IndexError, ValueError):\n",
    "            max_thresh -= 0.05 * spread\n",
    "            if max_thresh < hmin:\n",
    "                raise ValueError(\"Unable to locate the BB. Make sure the field edges do not obscure the BB and that there is no artifacts in the images.\")\n",
    "        else:\n",
    "            found = True\n",
    "\n",
    "    # determine the center of mass of the BB\n",
    "    inv_img = invert(pixel_array)\n",
    "    \n",
    "    x_arr = np.abs(np.average(bw_bb_img, weights=inv_img, axis=0))\n",
    "    x_com = SingleProfile(x_arr).fwxm_center(interpolate=True)\n",
    "    y_arr = np.abs(np.average(bw_bb_img, weights=inv_img, axis=1))\n",
    "    y_com = SingleProfile(y_arr).fwxm_center(interpolate=True)\n",
    "    \n",
    "    return Point(x_com, y_com)"
   ]
  },
  {
   "cell_type": "code",
   "execution_count": null,
   "metadata": {},
   "outputs": [],
   "source": []
  },
  {
   "cell_type": "code",
   "execution_count": null,
   "metadata": {},
   "outputs": [],
   "source": [
    "diff_map"
   ]
  },
  {
   "cell_type": "code",
   "execution_count": null,
   "metadata": {},
   "outputs": [],
   "source": [
    "diff_map"
   ]
  },
  {
   "cell_type": "code",
   "execution_count": null,
   "metadata": {},
   "outputs": [],
   "source": [
    "acquisition_datetimes[29]\n",
    "timestamps.values[0]"
   ]
  },
  {
   "cell_type": "code",
   "execution_count": null,
   "metadata": {},
   "outputs": [],
   "source": [
    "np.timedelta64(1, 's')"
   ]
  },
  {
   "cell_type": "code",
   "execution_count": null,
   "metadata": {},
   "outputs": [],
   "source": [
    "acquisition_times"
   ]
  },
  {
   "cell_type": "code",
   "execution_count": null,
   "metadata": {},
   "outputs": [],
   "source": [
    "np.array(timestamps.values)"
   ]
  }
 ],
 "metadata": {
  "kernelspec": {
   "display_name": "Python 3",
   "language": "python",
   "name": "python3"
  },
  "language_info": {
   "codemirror_mode": {
    "name": "ipython",
    "version": 3
   },
   "file_extension": ".py",
   "mimetype": "text/x-python",
   "name": "python",
   "nbconvert_exporter": "python",
   "pygments_lexer": "ipython3",
   "version": "3.7.0"
  }
 },
 "nbformat": 4,
 "nbformat_minor": 2
}
